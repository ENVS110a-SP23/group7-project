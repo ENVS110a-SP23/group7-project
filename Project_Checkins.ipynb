{
 "cells": [
  {
   "cell_type": "code",
   "execution_count": 120,
   "metadata": {},
   "outputs": [],
   "source": [
    "import pandas as pd\n",
    "import numpy as np\n",
    "import math\n",
    "import matplotlib.pyplot as plt\n",
    "import seaborn as sns"
   ]
  },
  {
   "cell_type": "markdown",
   "metadata": {},
   "source": [
    "Read in CSV files to Pandas dataframes"
   ]
  },
  {
   "cell_type": "code",
   "execution_count": 121,
   "metadata": {},
   "outputs": [],
   "source": [
    "greenroof_df = pd.read_csv(\"Data/Green_Roof_data.csv\")\n",
    "airquality_df = pd.read_csv(\"Data/Air_Quality.csv\")"
   ]
  },
  {
   "cell_type": "markdown",
   "metadata": {},
   "source": [
    "# Green Roof dataframe"
   ]
  },
  {
   "cell_type": "code",
   "execution_count": 122,
   "metadata": {},
   "outputs": [
    {
     "data": {
      "text/html": [
       "<div>\n",
       "<style scoped>\n",
       "    .dataframe tbody tr th:only-of-type {\n",
       "        vertical-align: middle;\n",
       "    }\n",
       "\n",
       "    .dataframe tbody tr th {\n",
       "        vertical-align: top;\n",
       "    }\n",
       "\n",
       "    .dataframe thead th {\n",
       "        text-align: right;\n",
       "    }\n",
       "</style>\n",
       "<table border=\"1\" class=\"dataframe\">\n",
       "  <thead>\n",
       "    <tr style=\"text-align: right;\">\n",
       "      <th></th>\n",
       "      <th>fid</th>\n",
       "      <th>bin</th>\n",
       "      <th>bbl</th>\n",
       "      <th>gr_area</th>\n",
       "      <th>bldg_area</th>\n",
       "      <th>prop_gr</th>\n",
       "      <th>cnstrct_yr</th>\n",
       "      <th>doitt_id</th>\n",
       "      <th>heightroof</th>\n",
       "      <th>feat_code</th>\n",
       "      <th>...</th>\n",
       "      <th>newlyadded</th>\n",
       "      <th>original_source</th>\n",
       "      <th>address</th>\n",
       "      <th>borough</th>\n",
       "      <th>ownertype</th>\n",
       "      <th>zonedist1</th>\n",
       "      <th>spdist1</th>\n",
       "      <th>bbl_fixed</th>\n",
       "      <th>xcoord</th>\n",
       "      <th>ycoord</th>\n",
       "    </tr>\n",
       "  </thead>\n",
       "  <tbody>\n",
       "    <tr>\n",
       "      <th>0</th>\n",
       "      <td>1</td>\n",
       "      <td>3393257.0</td>\n",
       "      <td>3013530001</td>\n",
       "      <td>971.97562</td>\n",
       "      <td>14057.66054</td>\n",
       "      <td>0.06914</td>\n",
       "      <td>1921.0</td>\n",
       "      <td>485656.0</td>\n",
       "      <td>59.24000</td>\n",
       "      <td>2100.0</td>\n",
       "      <td>...</td>\n",
       "      <td>0</td>\n",
       "      <td>DPR</td>\n",
       "      <td>119 TROY AVENUE</td>\n",
       "      <td>BK</td>\n",
       "      <td>C</td>\n",
       "      <td>PARK</td>\n",
       "      <td>NaN</td>\n",
       "      <td>0</td>\n",
       "      <td>-73.93491</td>\n",
       "      <td>40.67389</td>\n",
       "    </tr>\n",
       "    <tr>\n",
       "      <th>1</th>\n",
       "      <td>2</td>\n",
       "      <td>1010518.0</td>\n",
       "      <td>1006060004</td>\n",
       "      <td>696.97393</td>\n",
       "      <td>4463.34665</td>\n",
       "      <td>0.15616</td>\n",
       "      <td>1920.0</td>\n",
       "      <td>63711.0</td>\n",
       "      <td>13.69000</td>\n",
       "      <td>2100.0</td>\n",
       "      <td>...</td>\n",
       "      <td>0</td>\n",
       "      <td>classification</td>\n",
       "      <td>18 GREENWICH AVENUE</td>\n",
       "      <td>MN</td>\n",
       "      <td>NaN</td>\n",
       "      <td>C1-6</td>\n",
       "      <td>NaN</td>\n",
       "      <td>0</td>\n",
       "      <td>-73.99982</td>\n",
       "      <td>40.73481</td>\n",
       "    </tr>\n",
       "    <tr>\n",
       "      <th>2</th>\n",
       "      <td>3</td>\n",
       "      <td>1010288.0</td>\n",
       "      <td>1005947501</td>\n",
       "      <td>293.99617</td>\n",
       "      <td>13217.61133</td>\n",
       "      <td>0.02224</td>\n",
       "      <td>1909.0</td>\n",
       "      <td>84851.0</td>\n",
       "      <td>93.78000</td>\n",
       "      <td>2100.0</td>\n",
       "      <td>...</td>\n",
       "      <td>0</td>\n",
       "      <td>classification</td>\n",
       "      <td>479 GREENWICH STREET</td>\n",
       "      <td>MN</td>\n",
       "      <td>NaN</td>\n",
       "      <td>C6-2A</td>\n",
       "      <td>NaN</td>\n",
       "      <td>0</td>\n",
       "      <td>-74.00906</td>\n",
       "      <td>40.72480</td>\n",
       "    </tr>\n",
       "    <tr>\n",
       "      <th>3</th>\n",
       "      <td>4</td>\n",
       "      <td>1001596.0</td>\n",
       "      <td>1001467503</td>\n",
       "      <td>759.21592</td>\n",
       "      <td>4311.07761</td>\n",
       "      <td>0.17611</td>\n",
       "      <td>1920.0</td>\n",
       "      <td>821215.0</td>\n",
       "      <td>99.98000</td>\n",
       "      <td>2100.0</td>\n",
       "      <td>...</td>\n",
       "      <td>0</td>\n",
       "      <td>classification</td>\n",
       "      <td>104 READE STREET</td>\n",
       "      <td>MN</td>\n",
       "      <td>NaN</td>\n",
       "      <td>C6-2A</td>\n",
       "      <td>TMU</td>\n",
       "      <td>0</td>\n",
       "      <td>-74.00836</td>\n",
       "      <td>40.71595</td>\n",
       "    </tr>\n",
       "    <tr>\n",
       "      <th>4</th>\n",
       "      <td>5</td>\n",
       "      <td>2117344.0</td>\n",
       "      <td>2023597501</td>\n",
       "      <td>7204.18379</td>\n",
       "      <td>35891.53358</td>\n",
       "      <td>0.20072</td>\n",
       "      <td>2010.0</td>\n",
       "      <td>1257143.0</td>\n",
       "      <td>206.20024</td>\n",
       "      <td>2100.0</td>\n",
       "      <td>...</td>\n",
       "      <td>0</td>\n",
       "      <td>greenroofs.com</td>\n",
       "      <td>700-704 BROOK AVENUE</td>\n",
       "      <td>BX</td>\n",
       "      <td>NaN</td>\n",
       "      <td>C6-2</td>\n",
       "      <td>NaN</td>\n",
       "      <td>0</td>\n",
       "      <td>-73.91227</td>\n",
       "      <td>40.81906</td>\n",
       "    </tr>\n",
       "  </tbody>\n",
       "</table>\n",
       "<p>5 rows × 25 columns</p>\n",
       "</div>"
      ],
      "text/plain": [
       "   fid        bin         bbl     gr_area    bldg_area  prop_gr  cnstrct_yr  \\\n",
       "0    1  3393257.0  3013530001   971.97562  14057.66054  0.06914      1921.0   \n",
       "1    2  1010518.0  1006060004   696.97393   4463.34665  0.15616      1920.0   \n",
       "2    3  1010288.0  1005947501   293.99617  13217.61133  0.02224      1909.0   \n",
       "3    4  1001596.0  1001467503   759.21592   4311.07761  0.17611      1920.0   \n",
       "4    5  2117344.0  2023597501  7204.18379  35891.53358  0.20072      2010.0   \n",
       "\n",
       "    doitt_id  heightroof  feat_code  ...  newlyadded original_source  \\\n",
       "0   485656.0    59.24000     2100.0  ...           0             DPR   \n",
       "1    63711.0    13.69000     2100.0  ...           0  classification   \n",
       "2    84851.0    93.78000     2100.0  ...           0  classification   \n",
       "3   821215.0    99.98000     2100.0  ...           0  classification   \n",
       "4  1257143.0   206.20024     2100.0  ...           0  greenroofs.com   \n",
       "\n",
       "                address  borough  ownertype  zonedist1 spdist1 bbl_fixed  \\\n",
       "0       119 TROY AVENUE       BK          C       PARK     NaN         0   \n",
       "1   18 GREENWICH AVENUE       MN        NaN       C1-6     NaN         0   \n",
       "2  479 GREENWICH STREET       MN        NaN      C6-2A     NaN         0   \n",
       "3      104 READE STREET       MN        NaN      C6-2A     TMU         0   \n",
       "4  700-704 BROOK AVENUE       BX        NaN       C6-2     NaN         0   \n",
       "\n",
       "     xcoord    ycoord  \n",
       "0 -73.93491  40.67389  \n",
       "1 -73.99982  40.73481  \n",
       "2 -74.00906  40.72480  \n",
       "3 -74.00836  40.71595  \n",
       "4 -73.91227  40.81906  \n",
       "\n",
       "[5 rows x 25 columns]"
      ]
     },
     "execution_count": 122,
     "metadata": {},
     "output_type": "execute_result"
    }
   ],
   "source": [
    "greenroof_df.head()"
   ]
  },
  {
   "cell_type": "markdown",
   "metadata": {},
   "source": [
    "There are 736 buidling in this dataset. I examined possible columns that we could use as a unique key for each building if we need. Based on this, it's clear that the 'fid' and 'doitt_id' have a unique value for each building"
   ]
  },
  {
   "cell_type": "code",
   "execution_count": 123,
   "metadata": {},
   "outputs": [
    {
     "name": "stdout",
     "output_type": "stream",
     "text": [
      "fid: 736\n",
      "bin: 735\n",
      "bbl: 704\n",
      "doitt_id: 736\n"
     ]
    }
   ],
   "source": [
    "greenroof_df.shape\n",
    "ids = ['fid', 'bin', 'bbl', 'doitt_id']\n",
    "for i in ids:\n",
    "    print(i + \": \" + str(len(pd.unique(greenroof_df[i]))))"
   ]
  },
  {
   "cell_type": "markdown",
   "metadata": {},
   "source": [
    "### Columns"
   ]
  },
  {
   "cell_type": "code",
   "execution_count": 124,
   "metadata": {},
   "outputs": [
    {
     "data": {
      "text/plain": [
       "Index(['fid', 'bin', 'bbl', 'gr_area', 'bldg_area', 'prop_gr', 'cnstrct_yr',\n",
       "       'doitt_id', 'heightroof', 'feat_code', 'groundelev', 'qa', 'notes',\n",
       "       'classified', 'digitized', 'newlyadded', 'original_source', 'address',\n",
       "       'borough', 'ownertype', 'zonedist1', 'spdist1', 'bbl_fixed', 'xcoord',\n",
       "       'ycoord'],\n",
       "      dtype='object')"
      ]
     },
     "execution_count": 124,
     "metadata": {},
     "output_type": "execute_result"
    }
   ],
   "source": [
    "greenroof_df.columns"
   ]
  },
  {
   "cell_type": "code",
   "execution_count": 125,
   "metadata": {},
   "outputs": [
    {
     "data": {
      "text/plain": [
       "fid                  int64\n",
       "bin                float64\n",
       "bbl                  int64\n",
       "gr_area            float64\n",
       "bldg_area          float64\n",
       "prop_gr            float64\n",
       "cnstrct_yr         float64\n",
       "doitt_id           float64\n",
       "heightroof         float64\n",
       "feat_code          float64\n",
       "groundelev         float64\n",
       "qa                  object\n",
       "notes               object\n",
       "classified           int64\n",
       "digitized            int64\n",
       "newlyadded           int64\n",
       "original_source     object\n",
       "address             object\n",
       "borough             object\n",
       "ownertype           object\n",
       "zonedist1           object\n",
       "spdist1             object\n",
       "bbl_fixed            int64\n",
       "xcoord             float64\n",
       "ycoord             float64\n",
       "dtype: object"
      ]
     },
     "execution_count": 125,
     "metadata": {},
     "output_type": "execute_result"
    }
   ],
   "source": [
    "greenroof_df.dtypes"
   ]
  },
  {
   "cell_type": "markdown",
   "metadata": {},
   "source": [
    "## Breakdown of variables\n",
    "The way I see it, there are two categories of variables that will be important to us in the project: building information and location information. We will need to examine how the building statistics differ between different locations and howo that corresponds to differences in air quality statistics. Below is a summary of key statistics for these variables\n",
    "<br />\n",
    "### Building Information:"
   ]
  },
  {
   "cell_type": "code",
   "execution_count": 126,
   "metadata": {},
   "outputs": [
    {
     "data": {
      "text/html": [
       "<div>\n",
       "<style scoped>\n",
       "    .dataframe tbody tr th:only-of-type {\n",
       "        vertical-align: middle;\n",
       "    }\n",
       "\n",
       "    .dataframe tbody tr th {\n",
       "        vertical-align: top;\n",
       "    }\n",
       "\n",
       "    .dataframe thead th {\n",
       "        text-align: right;\n",
       "    }\n",
       "</style>\n",
       "<table border=\"1\" class=\"dataframe\">\n",
       "  <thead>\n",
       "    <tr style=\"text-align: right;\">\n",
       "      <th></th>\n",
       "      <th>gr_area</th>\n",
       "      <th>bldg_area</th>\n",
       "      <th>prop_gr</th>\n",
       "      <th>cnstrct_yr</th>\n",
       "      <th>heightroof</th>\n",
       "      <th>groundelev</th>\n",
       "    </tr>\n",
       "  </thead>\n",
       "  <tbody>\n",
       "    <tr>\n",
       "      <th>count</th>\n",
       "      <td>736.000000</td>\n",
       "      <td>735.000000</td>\n",
       "      <td>735.000000</td>\n",
       "      <td>719.000000</td>\n",
       "      <td>731.000000</td>\n",
       "      <td>734.000000</td>\n",
       "    </tr>\n",
       "    <tr>\n",
       "      <th>mean</th>\n",
       "      <td>3600.757929</td>\n",
       "      <td>23825.070517</td>\n",
       "      <td>0.196345</td>\n",
       "      <td>1853.390821</td>\n",
       "      <td>142.631514</td>\n",
       "      <td>41.374659</td>\n",
       "    </tr>\n",
       "    <tr>\n",
       "      <th>std</th>\n",
       "      <td>12641.336176</td>\n",
       "      <td>40262.554697</td>\n",
       "      <td>0.488084</td>\n",
       "      <td>446.160861</td>\n",
       "      <td>148.204418</td>\n",
       "      <td>33.165301</td>\n",
       "    </tr>\n",
       "    <tr>\n",
       "      <th>min</th>\n",
       "      <td>10.104310</td>\n",
       "      <td>129.903520</td>\n",
       "      <td>0.002160</td>\n",
       "      <td>0.000000</td>\n",
       "      <td>0.000000</td>\n",
       "      <td>-4.000000</td>\n",
       "    </tr>\n",
       "    <tr>\n",
       "      <th>25%</th>\n",
       "      <td>442.957355</td>\n",
       "      <td>4327.222185</td>\n",
       "      <td>0.057380</td>\n",
       "      <td>1915.000000</td>\n",
       "      <td>51.562555</td>\n",
       "      <td>15.000000</td>\n",
       "    </tr>\n",
       "    <tr>\n",
       "      <th>50%</th>\n",
       "      <td>1173.913880</td>\n",
       "      <td>12154.047540</td>\n",
       "      <td>0.123110</td>\n",
       "      <td>1956.000000</td>\n",
       "      <td>85.795670</td>\n",
       "      <td>32.000000</td>\n",
       "    </tr>\n",
       "    <tr>\n",
       "      <th>75%</th>\n",
       "      <td>3139.931563</td>\n",
       "      <td>27709.046705</td>\n",
       "      <td>0.234605</td>\n",
       "      <td>2006.000000</td>\n",
       "      <td>184.275000</td>\n",
       "      <td>61.000000</td>\n",
       "    </tr>\n",
       "    <tr>\n",
       "      <th>max</th>\n",
       "      <td>277317.688400</td>\n",
       "      <td>692314.938200</td>\n",
       "      <td>12.564050</td>\n",
       "      <td>2016.000000</td>\n",
       "      <td>1408.377900</td>\n",
       "      <td>168.000000</td>\n",
       "    </tr>\n",
       "  </tbody>\n",
       "</table>\n",
       "</div>"
      ],
      "text/plain": [
       "             gr_area      bldg_area     prop_gr   cnstrct_yr   heightroof  \\\n",
       "count     736.000000     735.000000  735.000000   719.000000   731.000000   \n",
       "mean     3600.757929   23825.070517    0.196345  1853.390821   142.631514   \n",
       "std     12641.336176   40262.554697    0.488084   446.160861   148.204418   \n",
       "min        10.104310     129.903520    0.002160     0.000000     0.000000   \n",
       "25%       442.957355    4327.222185    0.057380  1915.000000    51.562555   \n",
       "50%      1173.913880   12154.047540    0.123110  1956.000000    85.795670   \n",
       "75%      3139.931563   27709.046705    0.234605  2006.000000   184.275000   \n",
       "max    277317.688400  692314.938200   12.564050  2016.000000  1408.377900   \n",
       "\n",
       "       groundelev  \n",
       "count  734.000000  \n",
       "mean    41.374659  \n",
       "std     33.165301  \n",
       "min     -4.000000  \n",
       "25%     15.000000  \n",
       "50%     32.000000  \n",
       "75%     61.000000  \n",
       "max    168.000000  "
      ]
     },
     "execution_count": 126,
     "metadata": {},
     "output_type": "execute_result"
    }
   ],
   "source": [
    "#Get the important columns related to building info that we want to examine\n",
    "building_cols = [ 'gr_area', 'bldg_area', 'prop_gr', 'cnstrct_yr','heightroof', 'groundelev' ]\n",
    "greenroof_df[building_cols].describe()\n"
   ]
  },
  {
   "cell_type": "code",
   "execution_count": 127,
   "metadata": {},
   "outputs": [
    {
     "name": "stdout",
     "output_type": "stream",
     "text": [
      "gr_area: 0 nulls. 0 zero values\n",
      "bldg_area: 1 nulls. 0 zero values\n",
      "prop_gr: 1 nulls. 0 zero values\n",
      "cnstrct_yr: 17 nulls. 39 zero values\n",
      "heightroof: 5 nulls. 1 zero values\n",
      "groundelev: 2 nulls. 1 zero values\n"
     ]
    }
   ],
   "source": [
    "for i in building_cols:\n",
    "    print(i + \": \" + str(greenroof_df[i].isnull().sum()) + \" nulls. \" + str((greenroof_df[i] == 0).sum()) + \" zero values\")"
   ]
  },
  {
   "cell_type": "markdown",
   "metadata": {},
   "source": [
    "In particular, we know that the construction year column will be important because that's what we will use to connect building statistics to air quality statistics. So I did some extra analysis on that column. \n",
    "<br />\n",
    "<br />\n",
    "The building construction years range froom 1800-2016. Seems like there's no trend in how many buildings are built each year (in other words, it's not the case that more buildings are built in more recent years). But what we can use is the fact that it's cumulative, so we can assume that as years increase, there are more buildings in existance, which is helpful. This way, it might also be possibe to utilize the entries that have cnstrct_yr = 0 or NaN which might be helpful since we dont have a huge amount of data."
   ]
  },
  {
   "cell_type": "code",
   "execution_count": 128,
   "metadata": {},
   "outputs": [
    {
     "name": "stdout",
     "output_type": "stream",
     "text": [
      "Construction years range from: 1800 to 2016\n",
      "\n",
      "0: 39\n",
      "1800: 1\n",
      "1824: 1\n",
      "1850: 2\n",
      "1860: 1\n",
      "1865: 1\n",
      "1874: 1\n",
      "1890: 1\n",
      "1895: 1\n",
      "1899: 23\n",
      "1900: 28\n",
      "1901: 16\n",
      "1902: 2\n",
      "1904: 1\n",
      "1905: 4\n",
      "1906: 3\n",
      "1907: 3\n",
      "1908: 2\n",
      "1909: 1\n",
      "1910: 29\n",
      "1911: 3\n",
      "1912: 4\n",
      "1913: 1\n",
      "1914: 2\n",
      "1915: 17\n",
      "1916: 1\n",
      "1917: 3\n",
      "1918: 2\n",
      "1919: 1\n",
      "1920: 21\n",
      "1921: 4\n",
      "1922: 1\n",
      "1924: 3\n",
      "1925: 8\n",
      "1926: 11\n",
      "1927: 5\n",
      "1928: 6\n",
      "1929: 5\n",
      "1930: 20\n",
      "1931: 30\n",
      "1932: 5\n",
      "1933: 1\n",
      "1934: 1\n",
      "1936: 1\n",
      "1937: 6\n",
      "1939: 1\n",
      "1940: 2\n",
      "1941: 1\n",
      "1942: 1\n",
      "1947: 2\n",
      "1948: 2\n",
      "1949: 2\n",
      "1950: 13\n",
      "1951: 3\n",
      "1952: 2\n",
      "1953: 4\n",
      "1955: 4\n",
      "1956: 1\n",
      "1957: 2\n",
      "1958: 7\n",
      "1959: 2\n",
      "1960: 6\n",
      "1961: 4\n",
      "1962: 2\n",
      "1963: 7\n",
      "1964: 5\n",
      "1966: 4\n",
      "1967: 3\n",
      "1968: 4\n",
      "1969: 3\n",
      "1970: 5\n",
      "1971: 10\n",
      "1972: 2\n",
      "1973: 4\n",
      "1974: 6\n",
      "1975: 9\n",
      "1977: 1\n",
      "1981: 2\n",
      "1982: 1\n",
      "1983: 2\n",
      "1985: 3\n",
      "1986: 3\n",
      "1987: 5\n",
      "1988: 4\n",
      "1989: 3\n",
      "1990: 3\n",
      "1995: 1\n",
      "1996: 1\n",
      "1997: 2\n",
      "1998: 3\n",
      "1999: 1\n",
      "2000: 8\n",
      "2001: 3\n",
      "2002: 6\n",
      "2003: 9\n",
      "2004: 6\n",
      "2005: 17\n",
      "2006: 17\n",
      "2007: 31\n",
      "2008: 28\n",
      "2009: 25\n",
      "2010: 25\n",
      "2011: 23\n",
      "2012: 11\n",
      "2013: 10\n",
      "2014: 4\n",
      "2015: 10\n",
      "2016: 6\n"
     ]
    }
   ],
   "source": [
    "cnstrct_yr = greenroof_df['cnstrct_yr']\n",
    "print(\"Construction years range from: \" + str(int(greenroof_df.cnstrct_yr[greenroof_df.cnstrct_yr!=0].min())) + \" to \" + str(int(cnstrct_yr.max())) + \"\\n\")\n",
    "\n",
    "d = cnstrct_yr.value_counts().to_dict()\n",
    "yrs = np.sort(cnstrct_yr.unique())\n",
    "\n",
    "for yr in yrs:\n",
    "    if not math.isnan(yr):\n",
    "        print(str(int(yr)) + \": \" + str(d[yr]))\n",
    "            "
   ]
  },
  {
   "cell_type": "markdown",
   "metadata": {},
   "source": [
    "### Location Information:"
   ]
  },
  {
   "cell_type": "code",
   "execution_count": 129,
   "metadata": {},
   "outputs": [
    {
     "data": {
      "text/html": [
       "<div>\n",
       "<style scoped>\n",
       "    .dataframe tbody tr th:only-of-type {\n",
       "        vertical-align: middle;\n",
       "    }\n",
       "\n",
       "    .dataframe tbody tr th {\n",
       "        vertical-align: top;\n",
       "    }\n",
       "\n",
       "    .dataframe thead th {\n",
       "        text-align: right;\n",
       "    }\n",
       "</style>\n",
       "<table border=\"1\" class=\"dataframe\">\n",
       "  <thead>\n",
       "    <tr style=\"text-align: right;\">\n",
       "      <th></th>\n",
       "      <th>borough</th>\n",
       "      <th>address</th>\n",
       "      <th>zonedist1</th>\n",
       "    </tr>\n",
       "  </thead>\n",
       "  <tbody>\n",
       "    <tr>\n",
       "      <th>0</th>\n",
       "      <td>BK</td>\n",
       "      <td>119 TROY AVENUE</td>\n",
       "      <td>PARK</td>\n",
       "    </tr>\n",
       "    <tr>\n",
       "      <th>1</th>\n",
       "      <td>MN</td>\n",
       "      <td>18 GREENWICH AVENUE</td>\n",
       "      <td>C1-6</td>\n",
       "    </tr>\n",
       "    <tr>\n",
       "      <th>2</th>\n",
       "      <td>MN</td>\n",
       "      <td>479 GREENWICH STREET</td>\n",
       "      <td>C6-2A</td>\n",
       "    </tr>\n",
       "    <tr>\n",
       "      <th>3</th>\n",
       "      <td>MN</td>\n",
       "      <td>104 READE STREET</td>\n",
       "      <td>C6-2A</td>\n",
       "    </tr>\n",
       "    <tr>\n",
       "      <th>4</th>\n",
       "      <td>BX</td>\n",
       "      <td>700-704 BROOK AVENUE</td>\n",
       "      <td>C6-2</td>\n",
       "    </tr>\n",
       "  </tbody>\n",
       "</table>\n",
       "</div>"
      ],
      "text/plain": [
       "  borough               address zonedist1\n",
       "0      BK       119 TROY AVENUE      PARK\n",
       "1      MN   18 GREENWICH AVENUE      C1-6\n",
       "2      MN  479 GREENWICH STREET     C6-2A\n",
       "3      MN      104 READE STREET     C6-2A\n",
       "4      BX  700-704 BROOK AVENUE      C6-2"
      ]
     },
     "execution_count": 129,
     "metadata": {},
     "output_type": "execute_result"
    }
   ],
   "source": [
    "#Get the important columns related to building location that we want to examine\n",
    "location_cols = ['borough', 'address', 'zonedist1']\n",
    "greenroof_df[location_cols].head()"
   ]
  },
  {
   "cell_type": "markdown",
   "metadata": {},
   "source": [
    "The borough column is aruguably the most important one for our purposes, since we want to do our analysis grouped by borough. The address and zoning info ccould be used for some sort of GIS thing.\n",
    "<br />\n",
    "<br />\n",
    "So, I looked at the borough column more"
   ]
  },
  {
   "cell_type": "code",
   "execution_count": 130,
   "metadata": {},
   "outputs": [
    {
     "name": "stdout",
     "output_type": "stream",
     "text": [
      "Boroughs: ['BK' 'MN' 'BX' 'QN' 'SI']\n",
      "NaN values: 0\n",
      "\n",
      "BK: 135\n",
      "BX: 82\n",
      "MN: 465\n",
      "QN: 50\n",
      "SI: 4\n"
     ]
    }
   ],
   "source": [
    "borough = greenroof_df['borough']\n",
    "print(\"Boroughs: \" + str(borough.unique()))\n",
    "print(\"NaN values: \" + str(borough.isnull().sum()) + \"\\n\")\n",
    "\n",
    "d = borough.value_counts().to_dict()\n",
    "boroughs = np.sort(borough.unique())\n",
    "\n",
    "for b in boroughs:\n",
    "    print(str(b) + \": \" + str(d[b]))\n"
   ]
  },
  {
   "cell_type": "markdown",
   "metadata": {},
   "source": [
    "# Air Quality dataframe"
   ]
  },
  {
   "cell_type": "code",
   "execution_count": 131,
   "metadata": {},
   "outputs": [
    {
     "data": {
      "text/html": [
       "<div>\n",
       "<style scoped>\n",
       "    .dataframe tbody tr th:only-of-type {\n",
       "        vertical-align: middle;\n",
       "    }\n",
       "\n",
       "    .dataframe tbody tr th {\n",
       "        vertical-align: top;\n",
       "    }\n",
       "\n",
       "    .dataframe thead th {\n",
       "        text-align: right;\n",
       "    }\n",
       "</style>\n",
       "<table border=\"1\" class=\"dataframe\">\n",
       "  <thead>\n",
       "    <tr style=\"text-align: right;\">\n",
       "      <th></th>\n",
       "      <th>Unique ID</th>\n",
       "      <th>Indicator ID</th>\n",
       "      <th>Name</th>\n",
       "      <th>Measure</th>\n",
       "      <th>Measure Info</th>\n",
       "      <th>Geo Type Name</th>\n",
       "      <th>Geo Join ID</th>\n",
       "      <th>Geo Place Name</th>\n",
       "      <th>Time Period</th>\n",
       "      <th>Start_Date</th>\n",
       "      <th>Data Value</th>\n",
       "      <th>Message</th>\n",
       "    </tr>\n",
       "  </thead>\n",
       "  <tbody>\n",
       "    <tr>\n",
       "      <th>0</th>\n",
       "      <td>216498</td>\n",
       "      <td>386</td>\n",
       "      <td>Ozone (O3)</td>\n",
       "      <td>Mean</td>\n",
       "      <td>ppb</td>\n",
       "      <td>CD</td>\n",
       "      <td>313</td>\n",
       "      <td>Coney Island (CD13)</td>\n",
       "      <td>Summer 2013</td>\n",
       "      <td>6/1/13</td>\n",
       "      <td>34.64</td>\n",
       "      <td>NaN</td>\n",
       "    </tr>\n",
       "    <tr>\n",
       "      <th>1</th>\n",
       "      <td>216499</td>\n",
       "      <td>386</td>\n",
       "      <td>Ozone (O3)</td>\n",
       "      <td>Mean</td>\n",
       "      <td>ppb</td>\n",
       "      <td>CD</td>\n",
       "      <td>313</td>\n",
       "      <td>Coney Island (CD13)</td>\n",
       "      <td>Summer 2014</td>\n",
       "      <td>6/1/14</td>\n",
       "      <td>33.22</td>\n",
       "      <td>NaN</td>\n",
       "    </tr>\n",
       "    <tr>\n",
       "      <th>2</th>\n",
       "      <td>219969</td>\n",
       "      <td>386</td>\n",
       "      <td>Ozone (O3)</td>\n",
       "      <td>Mean</td>\n",
       "      <td>ppb</td>\n",
       "      <td>Borough</td>\n",
       "      <td>1</td>\n",
       "      <td>Bronx</td>\n",
       "      <td>Summer 2013</td>\n",
       "      <td>6/1/13</td>\n",
       "      <td>31.25</td>\n",
       "      <td>NaN</td>\n",
       "    </tr>\n",
       "    <tr>\n",
       "      <th>3</th>\n",
       "      <td>219970</td>\n",
       "      <td>386</td>\n",
       "      <td>Ozone (O3)</td>\n",
       "      <td>Mean</td>\n",
       "      <td>ppb</td>\n",
       "      <td>Borough</td>\n",
       "      <td>1</td>\n",
       "      <td>Bronx</td>\n",
       "      <td>Summer 2014</td>\n",
       "      <td>6/1/14</td>\n",
       "      <td>31.15</td>\n",
       "      <td>NaN</td>\n",
       "    </tr>\n",
       "    <tr>\n",
       "      <th>4</th>\n",
       "      <td>164876</td>\n",
       "      <td>383</td>\n",
       "      <td>Sulfur Dioxide (SO2)</td>\n",
       "      <td>Mean</td>\n",
       "      <td>ppb</td>\n",
       "      <td>CD</td>\n",
       "      <td>211</td>\n",
       "      <td>Morris Park and Bronxdale (CD11)</td>\n",
       "      <td>Winter 2008-09</td>\n",
       "      <td>12/1/08</td>\n",
       "      <td>5.89</td>\n",
       "      <td>NaN</td>\n",
       "    </tr>\n",
       "  </tbody>\n",
       "</table>\n",
       "</div>"
      ],
      "text/plain": [
       "   Unique ID  Indicator ID                  Name Measure Measure Info  \\\n",
       "0     216498           386            Ozone (O3)    Mean          ppb   \n",
       "1     216499           386            Ozone (O3)    Mean          ppb   \n",
       "2     219969           386            Ozone (O3)    Mean          ppb   \n",
       "3     219970           386            Ozone (O3)    Mean          ppb   \n",
       "4     164876           383  Sulfur Dioxide (SO2)    Mean          ppb   \n",
       "\n",
       "  Geo Type Name  Geo Join ID                    Geo Place Name  \\\n",
       "0            CD          313               Coney Island (CD13)   \n",
       "1            CD          313               Coney Island (CD13)   \n",
       "2       Borough            1                             Bronx   \n",
       "3       Borough            1                             Bronx   \n",
       "4            CD          211  Morris Park and Bronxdale (CD11)   \n",
       "\n",
       "      Time Period Start_Date  Data Value  Message  \n",
       "0     Summer 2013     6/1/13       34.64      NaN  \n",
       "1     Summer 2014     6/1/14       33.22      NaN  \n",
       "2     Summer 2013     6/1/13       31.25      NaN  \n",
       "3     Summer 2014     6/1/14       31.15      NaN  \n",
       "4  Winter 2008-09    12/1/08        5.89      NaN  "
      ]
     },
     "execution_count": 131,
     "metadata": {},
     "output_type": "execute_result"
    }
   ],
   "source": [
    "airquality_df.head()"
   ]
  },
  {
   "cell_type": "markdown",
   "metadata": {},
   "source": [
    "I think the most important columns in this data set are the Name of the indicator, the Geo Place Name that gives us location info, the Data vlue for the indicator, and the Start_Date which we can use to see trends over time corresponding to the building info. I analyzed the indicator info and the location info seperately:\n",
    "\n",
    "### Indicator Information:"
   ]
  },
  {
   "cell_type": "code",
   "execution_count": 132,
   "metadata": {},
   "outputs": [
    {
     "data": {
      "text/html": [
       "<div>\n",
       "<style scoped>\n",
       "    .dataframe tbody tr th:only-of-type {\n",
       "        vertical-align: middle;\n",
       "    }\n",
       "\n",
       "    .dataframe tbody tr th {\n",
       "        vertical-align: top;\n",
       "    }\n",
       "\n",
       "    .dataframe thead th {\n",
       "        text-align: right;\n",
       "    }\n",
       "</style>\n",
       "<table border=\"1\" class=\"dataframe\">\n",
       "  <thead>\n",
       "    <tr style=\"text-align: right;\">\n",
       "      <th></th>\n",
       "      <th>Name</th>\n",
       "      <th>Measure Info</th>\n",
       "      <th>Data Value</th>\n",
       "    </tr>\n",
       "  </thead>\n",
       "  <tbody>\n",
       "    <tr>\n",
       "      <th>0</th>\n",
       "      <td>Ozone (O3)</td>\n",
       "      <td>ppb</td>\n",
       "      <td>34.64</td>\n",
       "    </tr>\n",
       "    <tr>\n",
       "      <th>1</th>\n",
       "      <td>Ozone (O3)</td>\n",
       "      <td>ppb</td>\n",
       "      <td>33.22</td>\n",
       "    </tr>\n",
       "    <tr>\n",
       "      <th>2</th>\n",
       "      <td>Ozone (O3)</td>\n",
       "      <td>ppb</td>\n",
       "      <td>31.25</td>\n",
       "    </tr>\n",
       "    <tr>\n",
       "      <th>3</th>\n",
       "      <td>Ozone (O3)</td>\n",
       "      <td>ppb</td>\n",
       "      <td>31.15</td>\n",
       "    </tr>\n",
       "    <tr>\n",
       "      <th>4</th>\n",
       "      <td>Sulfur Dioxide (SO2)</td>\n",
       "      <td>ppb</td>\n",
       "      <td>5.89</td>\n",
       "    </tr>\n",
       "  </tbody>\n",
       "</table>\n",
       "</div>"
      ],
      "text/plain": [
       "                   Name Measure Info  Data Value\n",
       "0            Ozone (O3)          ppb       34.64\n",
       "1            Ozone (O3)          ppb       33.22\n",
       "2            Ozone (O3)          ppb       31.25\n",
       "3            Ozone (O3)          ppb       31.15\n",
       "4  Sulfur Dioxide (SO2)          ppb        5.89"
      ]
     },
     "execution_count": 132,
     "metadata": {},
     "output_type": "execute_result"
    }
   ],
   "source": [
    "#Get the important columns related to indicator info that we want to examine\n",
    "indicator_cols = ['Name', 'Measure Info', 'Data Value']\n",
    "airquality_df[indicator_cols].head()"
   ]
  },
  {
   "cell_type": "markdown",
   "metadata": {},
   "source": [
    "There's several different indicators that we can look at. We will probablly do more research to pick a couple of them to focus on"
   ]
  },
  {
   "cell_type": "code",
   "execution_count": 133,
   "metadata": {},
   "outputs": [
    {
     "name": "stdout",
     "output_type": "stream",
     "text": [
      "NaN values: 0\n",
      "\n",
      "Air Toxics Concentrations- Average Benzene Concentrations: 155\n",
      "Air Toxics Concentrations- Average Formaldehyde Concentrations: 155\n",
      "Boiler Emissions- Total NOx Emissions: 96\n",
      "Boiler Emissions- Total PM2.5 Emissions: 96\n",
      "Boiler Emissions- Total SO2 Emissions: 96\n",
      "Fine Particulate Matter (PM2.5): 5076\n",
      "Nitrogen Dioxide (NO2): 5076\n",
      "O3-Attributable Asthma Emergency Department Visits: 384\n",
      "O3-Attributable Asthma Hospitalizations: 384\n",
      "O3-Attributable Cardiac and Respiratory Deaths: 192\n",
      "Ozone (O3): 1692\n",
      "PM2.5-Attributable Asthma Emergency Department Visits: 384\n",
      "PM2.5-Attributable Cardiovascular Hospitalizations (Adults 40 Yrs and Older): 192\n",
      "PM2.5-Attributable Deaths: 192\n",
      "PM2.5-Attributable Respiratory Hospitalizations (Adults 20 Yrs and Older): 192\n",
      "Sulfur Dioxide (SO2): 1128\n",
      "Traffic Density- Annual Vehicle Miles Traveled: 209\n",
      "Traffic Density- Annual Vehicle Miles Traveled for Cars: 214\n",
      "Traffic Density- Annual Vehicle Miles Traveled for Trucks: 209\n"
     ]
    }
   ],
   "source": [
    "indicator = airquality_df['Name']\n",
    "print(\"NaN values: \" + str(indicator.isnull().sum()) + \"\\n\")\n",
    "\n",
    "d = indicator.value_counts().to_dict()\n",
    "indicators = np.sort(indicator.unique())\n",
    "\n",
    "for i in indicators:\n",
    "    print(str(i) + \": \" + str(d[i]))"
   ]
  },
  {
   "cell_type": "markdown",
   "metadata": {},
   "source": [
    "I checked to make sure that, for each indicator, the measure unit is consistent and if there are any NaN/zero values. All thee data looks good"
   ]
  },
  {
   "cell_type": "code",
   "execution_count": 134,
   "metadata": {},
   "outputs": [
    {
     "name": "stdout",
     "output_type": "stream",
     "text": [
      "Air Toxics Concentrations- Average Benzene Concentrations\n",
      "Measure for this indicator: ['µg/m3']\n",
      "NaN values: 0\n",
      "Zero values: 0\n",
      "Air Toxics Concentrations- Average Formaldehyde Concentrations\n",
      "Measure for this indicator: ['µg/m3']\n",
      "NaN values: 0\n",
      "Zero values: 0\n",
      "Boiler Emissions- Total NOx Emissions\n",
      "Measure for this indicator: ['number']\n",
      "NaN values: 0\n",
      "Zero values: 0\n",
      "Boiler Emissions- Total PM2.5 Emissions\n",
      "Measure for this indicator: ['number']\n",
      "NaN values: 0\n",
      "Zero values: 20\n",
      "Boiler Emissions- Total SO2 Emissions\n",
      "Measure for this indicator: ['number']\n",
      "NaN values: 0\n",
      "Zero values: 10\n",
      "Fine Particulate Matter (PM2.5)\n",
      "Measure for this indicator: ['mcg per cubic meter']\n",
      "NaN values: 0\n",
      "Zero values: 0\n",
      "Nitrogen Dioxide (NO2)\n",
      "Measure for this indicator: ['ppb']\n",
      "NaN values: 0\n",
      "Zero values: 0\n",
      "O3-Attributable Asthma Emergency Department Visits\n",
      "Measure for this indicator: ['per 100,000 children' 'per 100,000 adults']\n",
      "NaN values: 0\n",
      "Zero values: 0\n",
      "O3-Attributable Asthma Hospitalizations\n",
      "Measure for this indicator: ['per 100,000 children' 'per 100,000 adults']\n",
      "NaN values: 0\n",
      "Zero values: 0\n",
      "O3-Attributable Cardiac and Respiratory Deaths\n",
      "Measure for this indicator: ['per 100,000 residents']\n",
      "NaN values: 0\n",
      "Zero values: 0\n",
      "Ozone (O3)\n",
      "Measure for this indicator: ['ppb']\n",
      "NaN values: 0\n",
      "Zero values: 0\n",
      "PM2.5-Attributable Asthma Emergency Department Visits\n",
      "Measure for this indicator: ['per 100,000 children' 'per 100,000 adults']\n",
      "NaN values: 0\n",
      "Zero values: 0\n",
      "PM2.5-Attributable Cardiovascular Hospitalizations (Adults 40 Yrs and Older)\n",
      "Measure for this indicator: ['per 100,000 adults']\n",
      "NaN values: 0\n",
      "Zero values: 0\n",
      "PM2.5-Attributable Deaths\n",
      "Measure for this indicator: ['per 100,000 adults']\n",
      "NaN values: 0\n",
      "Zero values: 0\n",
      "PM2.5-Attributable Respiratory Hospitalizations (Adults 20 Yrs and Older)\n",
      "Measure for this indicator: ['per 100,000 adults']\n",
      "NaN values: 0\n",
      "Zero values: 0\n",
      "Sulfur Dioxide (SO2)\n",
      "Measure for this indicator: ['ppb']\n",
      "NaN values: 0\n",
      "Zero values: 0\n",
      "Traffic Density- Annual Vehicle Miles Traveled\n",
      "Measure for this indicator: ['per km2']\n",
      "NaN values: 0\n",
      "Zero values: 0\n",
      "Traffic Density- Annual Vehicle Miles Traveled for Cars\n",
      "Measure for this indicator: ['per km2']\n",
      "NaN values: 0\n",
      "Zero values: 0\n",
      "Traffic Density- Annual Vehicle Miles Traveled for Trucks\n",
      "Measure for this indicator: ['per km2']\n",
      "NaN values: 0\n",
      "Zero values: 0\n"
     ]
    }
   ],
   "source": [
    "data_groupedby_indicator = airquality_df.groupby('Name')\n",
    "\n",
    "for i in data_groupedby_indicator.groups.keys():\n",
    "    print(i)\n",
    "    g = data_groupedby_indicator.get_group(i)\n",
    "    print(\"Measure for this indicator: \" + str(g['Measure Info'].unique()))\n",
    "    print(\"NaN values: \" + str(g['Data Value'].isnull().sum()))\n",
    "    print(\"Zero values: \" + str((g['Data Value'] == 0).sum()))"
   ]
  },
  {
   "cell_type": "markdown",
   "metadata": {},
   "source": [
    "### Location and Date Information:"
   ]
  },
  {
   "cell_type": "code",
   "execution_count": 135,
   "metadata": {},
   "outputs": [
    {
     "data": {
      "text/html": [
       "<div>\n",
       "<style scoped>\n",
       "    .dataframe tbody tr th:only-of-type {\n",
       "        vertical-align: middle;\n",
       "    }\n",
       "\n",
       "    .dataframe tbody tr th {\n",
       "        vertical-align: top;\n",
       "    }\n",
       "\n",
       "    .dataframe thead th {\n",
       "        text-align: right;\n",
       "    }\n",
       "</style>\n",
       "<table border=\"1\" class=\"dataframe\">\n",
       "  <thead>\n",
       "    <tr style=\"text-align: right;\">\n",
       "      <th></th>\n",
       "      <th>Geo Place Name</th>\n",
       "      <th>Geo Type Name</th>\n",
       "    </tr>\n",
       "  </thead>\n",
       "  <tbody>\n",
       "    <tr>\n",
       "      <th>0</th>\n",
       "      <td>Coney Island (CD13)</td>\n",
       "      <td>CD</td>\n",
       "    </tr>\n",
       "    <tr>\n",
       "      <th>1</th>\n",
       "      <td>Coney Island (CD13)</td>\n",
       "      <td>CD</td>\n",
       "    </tr>\n",
       "    <tr>\n",
       "      <th>2</th>\n",
       "      <td>Bronx</td>\n",
       "      <td>Borough</td>\n",
       "    </tr>\n",
       "    <tr>\n",
       "      <th>3</th>\n",
       "      <td>Bronx</td>\n",
       "      <td>Borough</td>\n",
       "    </tr>\n",
       "    <tr>\n",
       "      <th>4</th>\n",
       "      <td>Morris Park and Bronxdale (CD11)</td>\n",
       "      <td>CD</td>\n",
       "    </tr>\n",
       "  </tbody>\n",
       "</table>\n",
       "</div>"
      ],
      "text/plain": [
       "                     Geo Place Name Geo Type Name\n",
       "0               Coney Island (CD13)            CD\n",
       "1               Coney Island (CD13)            CD\n",
       "2                             Bronx       Borough\n",
       "3                             Bronx       Borough\n",
       "4  Morris Park and Bronxdale (CD11)            CD"
      ]
     },
     "execution_count": 135,
     "metadata": {},
     "output_type": "execute_result"
    }
   ],
   "source": [
    "#Get the important columns related to indicator info that we want to examine\n",
    "loc_cols = ['Geo Place Name', 'Geo Type Name']\n",
    "airquality_df[loc_cols].head()"
   ]
  },
  {
   "cell_type": "code",
   "execution_count": 136,
   "metadata": {},
   "outputs": [
    {
     "name": "stdout",
     "output_type": "stream",
     "text": [
      "Geo Place Name \n",
      "['Coney Island (CD13)' 'Bronx' 'Morris Park and Bronxdale (CD11)'\n",
      " 'Williamsbridge and Baychester (CD12)' 'Brooklyn'\n",
      " 'Greenpoint and Williamsburg (CD1)'\n",
      " 'Fort Greene and Brooklyn Heights (CD2)' 'Bedford Stuyvesant (CD3)'\n",
      " 'Bushwick (CD4)' 'East New York and Starrett City (CD5)'\n",
      " 'Park Slope and Carroll Gardens (CD6)' 'Sunset Park (CD7)'\n",
      " 'Crown Heights and Prospect Heights (CD8)'\n",
      " 'Belmont and East Tremont (CD6)' 'Kingsbridge Heights and Bedford (CD7)'\n",
      " 'Kingsbridge - Riverdale' 'Northeast Bronx' 'Fordham - Bronx Pk'\n",
      " 'Pelham - Throgs Neck' 'Crotona -Tremont' 'High Bridge - Morrisania'\n",
      " 'Hunts Point - Mott Haven' 'Greenpoint' 'Downtown - Heights - Slope'\n",
      " 'Bedford Stuyvesant - Crown Heights' 'East New York' 'Sunset Park'\n",
      " 'Borough Park' 'East Flatbush - Flatbush' 'Canarsie - Flatlands'\n",
      " 'Bensonhurst - Bay Ridge' 'Coney Island - Sheepshead Bay'\n",
      " 'Williamsburg - Bushwick' 'Washington Heights'\n",
      " 'Central Harlem - Morningside Heights' 'East Harlem' 'Upper West Side'\n",
      " 'Upper East Side' 'Chelsea - Clinton' 'Gramercy Park - Murray Hill'\n",
      " 'Greenwich Village - SoHo' 'Union Square - Lower East Side'\n",
      " 'Lower Manhattan' 'Long Island City - Astoria' 'West Queens'\n",
      " 'Flushing - Clearview' 'Bayside - Little Neck' 'Ridgewood - Forest Hills'\n",
      " 'Fresh Meadows' 'Riverdale and Fieldston (CD8)' 'Southwest Queens'\n",
      " 'Jamaica' 'Southeast Queens' 'Rockaways' 'Port Richmond'\n",
      " 'Stapleton - St. George' 'Willowbrook' 'South Beach - Tottenville'\n",
      " 'New York City' 'Manhattan' 'Queens' 'Staten Island'\n",
      " 'Parkchester and Soundview (CD9)' 'Bensonhurst (CD11)'\n",
      " 'Throgs Neck and Co-op City (CD10)' 'Financial District (CD1)'\n",
      " 'Greenwich Village and Soho (CD2)' 'Lower East Side and Chinatown (CD3)'\n",
      " 'Clinton and Chelsea (CD4)' 'Midtown (CD5)'\n",
      " 'Stuyvesant Town and Turtle Bay (CD6)' 'Upper West Side (CD7)'\n",
      " 'Upper East Side (CD8)' 'Morningside Heights and Hamilton Heights (CD9)'\n",
      " 'Central Harlem (CD10)' 'East Harlem (CD11)'\n",
      " 'Washington Heights and Inwood (CD12)' 'Mott Haven and Melrose (CD1)'\n",
      " 'Hunts Point and Longwood (CD2)' 'Morrisania and Crotona (CD3)'\n",
      " 'Highbridge and Concourse (CD4)' 'Fordham and University Heights (CD5)'\n",
      " 'South Crown Heights and Lefferts Gardens (CD9)'\n",
      " 'Bay Ridge and Dyker Heights (CD10)' 'Borough Park (CD12)'\n",
      " 'Flatbush and Midwood (CD14)' 'Sheepshead Bay (CD15)'\n",
      " 'Brownsville (CD16)' 'East Flatbush (CD17)'\n",
      " 'Flatlands and Canarsie (CD18)' 'Long Island City and Astoria (CD1)'\n",
      " 'Woodside and Sunnyside (CD2)' 'Jackson Heights (CD3)'\n",
      " 'Elmhurst and Corona (CD4)' 'Ridgewood and Maspeth (CD5)'\n",
      " 'Rego Park and Forest Hills (CD6)' 'Flushing and Whitestone (CD7)'\n",
      " 'Hillcrest and Fresh Meadows (CD8)' 'Kew Gardens and Woodhaven (CD9)'\n",
      " 'South Ozone Park and Howard Beach (CD10)'\n",
      " 'Bayside and Little Neck (CD11)' 'Jamaica and Hollis (CD12)'\n",
      " 'Queens Village (CD13)' 'Rockaway and Broad Channel (CD14)'\n",
      " 'St. George and Stapleton (CD1)' 'South Beach and Willowbrook (CD2)'\n",
      " 'Tottenville and Great Kills (CD3)' 'Upper East Side-Gramercy'\n",
      " 'Chelsea-Village' 'Union Square-Lower Manhattan'\n",
      " 'Bayside Little Neck-Fresh Meadows' 'Northern SI' 'Southern SI'\n",
      " 'South Bronx']\n",
      "Geo Type Name\n",
      "['CD' 'Borough' 'UHF42' 'Citywide' 'UHF34']\n"
     ]
    }
   ],
   "source": [
    "print(\"Geo Place Name \")\n",
    "print(airquality_df[loc_cols]['Geo Place Name'].unique())\n",
    "print('Geo Type Name')\n",
    "print(airquality_df[loc_cols]['Geo Type Name'].unique())"
   ]
  },
  {
   "cell_type": "code",
   "execution_count": 137,
   "metadata": {},
   "outputs": [
    {
     "data": {
      "text/html": [
       "<div>\n",
       "<style scoped>\n",
       "    .dataframe tbody tr th:only-of-type {\n",
       "        vertical-align: middle;\n",
       "    }\n",
       "\n",
       "    .dataframe tbody tr th {\n",
       "        vertical-align: top;\n",
       "    }\n",
       "\n",
       "    .dataframe thead th {\n",
       "        text-align: right;\n",
       "    }\n",
       "</style>\n",
       "<table border=\"1\" class=\"dataframe\">\n",
       "  <thead>\n",
       "    <tr style=\"text-align: right;\">\n",
       "      <th></th>\n",
       "      <th>Time Period</th>\n",
       "      <th>Start_Date</th>\n",
       "    </tr>\n",
       "  </thead>\n",
       "  <tbody>\n",
       "    <tr>\n",
       "      <th>0</th>\n",
       "      <td>Summer 2013</td>\n",
       "      <td>6/1/13</td>\n",
       "    </tr>\n",
       "    <tr>\n",
       "      <th>1</th>\n",
       "      <td>Summer 2014</td>\n",
       "      <td>6/1/14</td>\n",
       "    </tr>\n",
       "    <tr>\n",
       "      <th>2</th>\n",
       "      <td>Summer 2013</td>\n",
       "      <td>6/1/13</td>\n",
       "    </tr>\n",
       "    <tr>\n",
       "      <th>3</th>\n",
       "      <td>Summer 2014</td>\n",
       "      <td>6/1/14</td>\n",
       "    </tr>\n",
       "    <tr>\n",
       "      <th>4</th>\n",
       "      <td>Winter 2008-09</td>\n",
       "      <td>12/1/08</td>\n",
       "    </tr>\n",
       "  </tbody>\n",
       "</table>\n",
       "</div>"
      ],
      "text/plain": [
       "      Time Period Start_Date\n",
       "0     Summer 2013     6/1/13\n",
       "1     Summer 2014     6/1/14\n",
       "2     Summer 2013     6/1/13\n",
       "3     Summer 2014     6/1/14\n",
       "4  Winter 2008-09    12/1/08"
      ]
     },
     "execution_count": 137,
     "metadata": {},
     "output_type": "execute_result"
    }
   ],
   "source": [
    "#Get the important columns related to date info that we want to examine\n",
    "date_cols = ['Time Period', 'Start_Date']\n",
    "airquality_df[date_cols].head()"
   ]
  },
  {
   "cell_type": "code",
   "execution_count": 138,
   "metadata": {},
   "outputs": [
    {
     "name": "stdout",
     "output_type": "stream",
     "text": [
      "Oldest date: 1/1/05\n",
      "Newest date: 6/1/20\n"
     ]
    }
   ],
   "source": [
    "print(\"Oldest date: \" + str(airquality_df['Start_Date'].min()))\n",
    "print(\"Newest date: \" + str(airquality_df['Start_Date'].max()))"
   ]
  },
  {
   "cell_type": "markdown",
   "metadata": {},
   "source": [
    "### Data Cleaning:\n",
    "\n",
    "It's clear from examining both the data sets, that we need to standardize the data so that we can accurately compare them. Below is the code to do the following things:\n",
    "- Since the roof dataset has just 5 borough tags, I combined the borough names in the air quality data into the same 5 borough tags by adding another column\n",
    "- We want to standardize each of the dates in the air quality dataset into one year so we can compare them to the roof dataset. I used the Start_Date column in the air quality dataset to categorize the entries into just years. I manually inspected a bunch of the Time Periods and found that most of the time periods have the same start date, so I just used the Start Date because it was easier to work with"
   ]
  },
  {
   "cell_type": "code",
   "execution_count": 139,
   "metadata": {},
   "outputs": [],
   "source": [
    "#I broke the locations into lists of each borough using Chat GPT hehehehe\n",
    "#Boroughs: ['BK' 'MN' 'BX' 'QN' 'SI']\n",
    "\n",
    "BK = ['Flatlands and Canarsie (CD18)', 'East Flatbush (CD17)', 'Brownsville (CD16)', 'Sheepshead Bay (CD15)', 'Flatbush and Midwood (CD14)', 'Borough Park (CD12)', 'Bay Ridge and Dyker Heights (CD10)', 'South Crown Heights and Lefferts Gardens (CD9)', 'Williamsburg - Bushwick', 'Coney Island - Sheepshead Bay', 'Bensonhurst - Bay Ridge', 'Canarsie - Flatlands', 'East Flatbush - Flatbush', 'Borough Park', 'Sunset Park','East New York', 'Bedford Stuyvesant - Crown Heights', 'Downtown - Heights - Slope', 'Greenpoint', 'Coney Island (CD13)', 'Crown Heights and Prospect Heights (CD8)', 'Brooklyn', 'Greenpoint and Williamsburg (CD1)', 'Fort Greene and Brooklyn Heights (CD2)', 'Bedford Stuyvesant (CD3)', 'Bushwick (CD4)', 'East New York and Starrett City (CD5)', 'Park Slope and Carroll Gardens (CD6)', 'Sunset Park (CD7)']\n",
    "MN = ['Manhattan', 'New York City', 'Washington Heights', 'Central Harlem - Morningside Heights', 'East Harlem', 'Upper West Side', 'Upper East Side', 'Chelsea - Clinton', 'Gramercy Park - Murray Hill', 'Greenwich Village - SoHo', 'Union Square - Lower East Side', 'Lower Manhattan', 'Financial District (CD1)', 'Greenwich Village and Soho (CD2)', 'Lower East Side and Chinatown (CD3)', 'Clinton and Chelsea (CD4)', 'Midtown (CD5)', 'Stuyvesant Town and Turtle Bay (CD6)', 'Upper West Side (CD7)', 'Upper East Side (CD8)', 'Morningside Heights and Hamilton Heights (CD9)', 'Central Harlem (CD10)', 'East Harlem (CD11)', 'Washington Heights and Inwood (CD12)', 'Upper East Side-Gramercy', 'Chelsea-Village', 'Union Square-Lower Manhattan']\n",
    "BX = ['Bronx', 'South Bronx', 'Riverdale and Fieldston (CD8)', 'Morris Park and Bronxdale (CD11)', 'Williamsbridge and Baychester (CD12)', 'Belmont and East Tremont (CD6)', 'Kingsbridge Heights and Bedford (CD7)', 'Kingsbridge - Riverdale', 'Northeast Bronx', 'Fordham - Bronx Pk', 'Pelham - Throgs Neck', 'Crotona -Tremont', 'High Bridge - Morrisania', 'Hunts Point - Mott Haven', 'Mott Haven and Melrose (CD1)', 'Hunts Point and Longwood (CD2)', 'Morrisania and Crotona (CD3)', 'Highbridge and Concourse (CD4)', 'Fordham and University Heights (CD5)']\n",
    "QN = ['Queens', 'Bayside Little Neck-Fresh Meadows', 'Long Island City - Astoria', 'West Queens', 'Flushing - Clearview', 'Bayside - Little Neck', 'Ridgewood - Forest Hills', 'Fresh Meadows', 'Southwest Queens', 'Jamaica', 'Southeast Queens', 'Rockaways', 'Parkchester and Soundview (CD9)', 'Bensonhurst (CD11)', 'Throgs Neck and Co-op City (CD10)', 'Long Island City and Astoria (CD1)', 'Woodside and Sunnyside (CD2)', 'Jackson Heights (CD3)', 'Elmhurst and Corona (CD4)', 'Ridgewood and Maspeth (CD5)', 'Rego Park and Forest Hills (CD6)', 'Flushing and Whitestone (CD7)', 'Hillcrest and Fresh Meadows (CD8)', 'Kew Gardens and Woodhaven (CD9)', 'South Ozone Park and Howard Beach (CD10)', 'Bayside and Little Neck (CD11)', 'Jamaica and Hollis (CD12)', 'Queens Village (CD13)', 'Rockaway and Broad Channel (CD14)']\n",
    "SI = ['Staten Island', 'Tottenville and Great Kills (CD3)', 'South Beach and Willowbrook (CD2)', 'St. George and Stapleton (CD1)', 'Port Richmond', 'Stapleton - St. George', 'Willowbrook', 'South Beach - Tottenville', 'Northern SI', 'Southern SI']\n",
    "\n",
    "#Add a column to airquality_df for borough\n",
    "boroughs = []\n",
    "for index, row in airquality_df.iterrows():\n",
    "    if row['Geo Place Name'] in BK:\n",
    "        boroughs.append('BK')\n",
    "    elif row['Geo Place Name'] in MN:\n",
    "        boroughs.append('MN')\n",
    "    elif row['Geo Place Name'] in BX:\n",
    "        boroughs.append('BX')\n",
    "    elif row['Geo Place Name'] in QN:\n",
    "        boroughs.append('QN')\n",
    "    else:\n",
    "        boroughs.append('SI')\n",
    "        \n",
    "air_quality__df_updated = airquality_df.assign(borough=boroughs)"
   ]
  },
  {
   "cell_type": "code",
   "execution_count": 140,
   "metadata": {},
   "outputs": [
    {
     "data": {
      "text/html": [
       "<div>\n",
       "<style scoped>\n",
       "    .dataframe tbody tr th:only-of-type {\n",
       "        vertical-align: middle;\n",
       "    }\n",
       "\n",
       "    .dataframe tbody tr th {\n",
       "        vertical-align: top;\n",
       "    }\n",
       "\n",
       "    .dataframe thead th {\n",
       "        text-align: right;\n",
       "    }\n",
       "</style>\n",
       "<table border=\"1\" class=\"dataframe\">\n",
       "  <thead>\n",
       "    <tr style=\"text-align: right;\">\n",
       "      <th></th>\n",
       "      <th>Unique ID</th>\n",
       "      <th>Indicator ID</th>\n",
       "      <th>Name</th>\n",
       "      <th>Measure</th>\n",
       "      <th>Measure Info</th>\n",
       "      <th>Geo Type Name</th>\n",
       "      <th>Geo Join ID</th>\n",
       "      <th>Geo Place Name</th>\n",
       "      <th>Time Period</th>\n",
       "      <th>Start_Date</th>\n",
       "      <th>Data Value</th>\n",
       "      <th>Message</th>\n",
       "      <th>borough</th>\n",
       "      <th>year</th>\n",
       "    </tr>\n",
       "  </thead>\n",
       "  <tbody>\n",
       "    <tr>\n",
       "      <th>0</th>\n",
       "      <td>216498</td>\n",
       "      <td>386</td>\n",
       "      <td>Ozone (O3)</td>\n",
       "      <td>Mean</td>\n",
       "      <td>ppb</td>\n",
       "      <td>CD</td>\n",
       "      <td>313</td>\n",
       "      <td>Coney Island (CD13)</td>\n",
       "      <td>Summer 2013</td>\n",
       "      <td>6/1/13</td>\n",
       "      <td>34.64</td>\n",
       "      <td>NaN</td>\n",
       "      <td>BK</td>\n",
       "      <td>2013</td>\n",
       "    </tr>\n",
       "    <tr>\n",
       "      <th>1</th>\n",
       "      <td>216499</td>\n",
       "      <td>386</td>\n",
       "      <td>Ozone (O3)</td>\n",
       "      <td>Mean</td>\n",
       "      <td>ppb</td>\n",
       "      <td>CD</td>\n",
       "      <td>313</td>\n",
       "      <td>Coney Island (CD13)</td>\n",
       "      <td>Summer 2014</td>\n",
       "      <td>6/1/14</td>\n",
       "      <td>33.22</td>\n",
       "      <td>NaN</td>\n",
       "      <td>BK</td>\n",
       "      <td>2014</td>\n",
       "    </tr>\n",
       "    <tr>\n",
       "      <th>2</th>\n",
       "      <td>219969</td>\n",
       "      <td>386</td>\n",
       "      <td>Ozone (O3)</td>\n",
       "      <td>Mean</td>\n",
       "      <td>ppb</td>\n",
       "      <td>Borough</td>\n",
       "      <td>1</td>\n",
       "      <td>Bronx</td>\n",
       "      <td>Summer 2013</td>\n",
       "      <td>6/1/13</td>\n",
       "      <td>31.25</td>\n",
       "      <td>NaN</td>\n",
       "      <td>BX</td>\n",
       "      <td>2013</td>\n",
       "    </tr>\n",
       "    <tr>\n",
       "      <th>3</th>\n",
       "      <td>219970</td>\n",
       "      <td>386</td>\n",
       "      <td>Ozone (O3)</td>\n",
       "      <td>Mean</td>\n",
       "      <td>ppb</td>\n",
       "      <td>Borough</td>\n",
       "      <td>1</td>\n",
       "      <td>Bronx</td>\n",
       "      <td>Summer 2014</td>\n",
       "      <td>6/1/14</td>\n",
       "      <td>31.15</td>\n",
       "      <td>NaN</td>\n",
       "      <td>BX</td>\n",
       "      <td>2014</td>\n",
       "    </tr>\n",
       "    <tr>\n",
       "      <th>4</th>\n",
       "      <td>164876</td>\n",
       "      <td>383</td>\n",
       "      <td>Sulfur Dioxide (SO2)</td>\n",
       "      <td>Mean</td>\n",
       "      <td>ppb</td>\n",
       "      <td>CD</td>\n",
       "      <td>211</td>\n",
       "      <td>Morris Park and Bronxdale (CD11)</td>\n",
       "      <td>Winter 2008-09</td>\n",
       "      <td>12/1/08</td>\n",
       "      <td>5.89</td>\n",
       "      <td>NaN</td>\n",
       "      <td>BX</td>\n",
       "      <td>2008</td>\n",
       "    </tr>\n",
       "  </tbody>\n",
       "</table>\n",
       "</div>"
      ],
      "text/plain": [
       "   Unique ID  Indicator ID                  Name Measure Measure Info  \\\n",
       "0     216498           386            Ozone (O3)    Mean          ppb   \n",
       "1     216499           386            Ozone (O3)    Mean          ppb   \n",
       "2     219969           386            Ozone (O3)    Mean          ppb   \n",
       "3     219970           386            Ozone (O3)    Mean          ppb   \n",
       "4     164876           383  Sulfur Dioxide (SO2)    Mean          ppb   \n",
       "\n",
       "  Geo Type Name  Geo Join ID                    Geo Place Name  \\\n",
       "0            CD          313               Coney Island (CD13)   \n",
       "1            CD          313               Coney Island (CD13)   \n",
       "2       Borough            1                             Bronx   \n",
       "3       Borough            1                             Bronx   \n",
       "4            CD          211  Morris Park and Bronxdale (CD11)   \n",
       "\n",
       "      Time Period Start_Date  Data Value  Message borough  year  \n",
       "0     Summer 2013     6/1/13       34.64      NaN      BK  2013  \n",
       "1     Summer 2014     6/1/14       33.22      NaN      BK  2014  \n",
       "2     Summer 2013     6/1/13       31.25      NaN      BX  2013  \n",
       "3     Summer 2014     6/1/14       31.15      NaN      BX  2014  \n",
       "4  Winter 2008-09    12/1/08        5.89      NaN      BX  2008  "
      ]
     },
     "execution_count": 140,
     "metadata": {},
     "output_type": "execute_result"
    }
   ],
   "source": [
    "#Add a column to airquality_df for year\n",
    "dates = []\n",
    "for i in airquality_df['Start_Date']:\n",
    "    date = i.split('/')\n",
    "    dates.append(date)\n",
    "\n",
    "date_df = pd.DataFrame(dates, columns = ['month', 'day', 'year'])\n",
    "date_df['combined'] = pd.to_datetime([f'{m}-{d}-{y}' for y, m, d in zip(date_df.year, date_df.month, date_df.day)])\n",
    "air_quality__df_updated = air_quality__df_updated.assign(year=date_df['combined'].dt.year)\n",
    "\n",
    "air_quality__df_updated.head()"
   ]
  },
  {
   "cell_type": "markdown",
   "metadata": {},
   "source": [
    "Now we can look at how much data we have for each indicator, grouped by borough"
   ]
  },
  {
   "cell_type": "code",
   "execution_count": 141,
   "metadata": {},
   "outputs": [
    {
     "data": {
      "text/html": [
       "<div>\n",
       "<style scoped>\n",
       "    .dataframe tbody tr th:only-of-type {\n",
       "        vertical-align: middle;\n",
       "    }\n",
       "\n",
       "    .dataframe tbody tr th {\n",
       "        vertical-align: top;\n",
       "    }\n",
       "\n",
       "    .dataframe thead th {\n",
       "        text-align: right;\n",
       "    }\n",
       "</style>\n",
       "<table border=\"1\" class=\"dataframe\">\n",
       "  <thead>\n",
       "    <tr style=\"text-align: right;\">\n",
       "      <th></th>\n",
       "      <th></th>\n",
       "      <th>count</th>\n",
       "    </tr>\n",
       "    <tr>\n",
       "      <th>borough</th>\n",
       "      <th>Name</th>\n",
       "      <th></th>\n",
       "    </tr>\n",
       "  </thead>\n",
       "  <tbody>\n",
       "    <tr>\n",
       "      <th rowspan=\"5\" valign=\"top\">BK</th>\n",
       "      <th>Air Toxics Concentrations- Average Benzene Concentrations</th>\n",
       "      <td>41</td>\n",
       "    </tr>\n",
       "    <tr>\n",
       "      <th>Air Toxics Concentrations- Average Formaldehyde Concentrations</th>\n",
       "      <td>41</td>\n",
       "    </tr>\n",
       "    <tr>\n",
       "      <th>Boiler Emissions- Total NOx Emissions</th>\n",
       "      <td>24</td>\n",
       "    </tr>\n",
       "    <tr>\n",
       "      <th>Boiler Emissions- Total PM2.5 Emissions</th>\n",
       "      <td>24</td>\n",
       "    </tr>\n",
       "    <tr>\n",
       "      <th>Boiler Emissions- Total SO2 Emissions</th>\n",
       "      <td>24</td>\n",
       "    </tr>\n",
       "    <tr>\n",
       "      <th>...</th>\n",
       "      <th>...</th>\n",
       "      <td>...</td>\n",
       "    </tr>\n",
       "    <tr>\n",
       "      <th rowspan=\"5\" valign=\"top\">SI</th>\n",
       "      <th>PM2.5-Attributable Respiratory Hospitalizations (Adults 20 Yrs and Older)</th>\n",
       "      <td>20</td>\n",
       "    </tr>\n",
       "    <tr>\n",
       "      <th>Sulfur Dioxide (SO2)</th>\n",
       "      <td>80</td>\n",
       "    </tr>\n",
       "    <tr>\n",
       "      <th>Traffic Density- Annual Vehicle Miles Traveled</th>\n",
       "      <td>15</td>\n",
       "    </tr>\n",
       "    <tr>\n",
       "      <th>Traffic Density- Annual Vehicle Miles Traveled for Cars</th>\n",
       "      <td>16</td>\n",
       "    </tr>\n",
       "    <tr>\n",
       "      <th>Traffic Density- Annual Vehicle Miles Traveled for Trucks</th>\n",
       "      <td>15</td>\n",
       "    </tr>\n",
       "  </tbody>\n",
       "</table>\n",
       "<p>95 rows × 1 columns</p>\n",
       "</div>"
      ],
      "text/plain": [
       "                                                            count\n",
       "borough Name                                                     \n",
       "BK      Air Toxics Concentrations- Average Benzene Conc...     41\n",
       "        Air Toxics Concentrations- Average Formaldehyde...     41\n",
       "        Boiler Emissions- Total NOx Emissions                  24\n",
       "        Boiler Emissions- Total PM2.5 Emissions                24\n",
       "        Boiler Emissions- Total SO2 Emissions                  24\n",
       "...                                                           ...\n",
       "SI      PM2.5-Attributable Respiratory Hospitalizations...     20\n",
       "        Sulfur Dioxide (SO2)                                   80\n",
       "        Traffic Density- Annual Vehicle Miles Traveled         15\n",
       "        Traffic Density- Annual Vehicle Miles Traveled ...     16\n",
       "        Traffic Density- Annual Vehicle Miles Traveled ...     15\n",
       "\n",
       "[95 rows x 1 columns]"
      ]
     },
     "execution_count": 141,
     "metadata": {},
     "output_type": "execute_result"
    }
   ],
   "source": [
    "data_groupedby_borough = air_quality__df_updated.groupby(['borough','Name']).aggregate(['count'])\n",
    "data_groupedby_borough['Unique ID']"
   ]
  },
  {
   "cell_type": "markdown",
   "metadata": {},
   "source": [
    "### Data Vizualisation and Hypothesis Testing\n",
    "Here we have created a few simple vizualisations that present different relatinoships that can be found within our Data Set. We can see how Boroughs fair in relation to each other and what the distributions are throughout them. \n",
    "\n",
    "## Hypothesis Testing Plan\n"
   ]
  },
  {
   "cell_type": "code",
   "execution_count": 142,
   "metadata": {},
   "outputs": [
    {
     "data": {
      "text/plain": [
       "<function matplotlib.pyplot.show(close=None, block=None)>"
      ]
     },
     "execution_count": 142,
     "metadata": {},
     "output_type": "execute_result"
    },
    {
     "data": {
      "image/png": "[encoded data removed]",
      "text/plain": [
       "<Figure size 1008x504 with 1 Axes>"
      ]
     },
     "metadata": {
      "needs_background": "light"
     },
     "output_type": "display_data"
    }
   ],
   "source": [
    "data_groupedby_borough = np.random.normal(40, 5, 10000)\n",
    "sns.histplot(data_groupedby_borough)\n",
    "plt.show\n"
   ]
  },
  {
   "cell_type": "code",
   "execution_count": 143,
   "metadata": {},
   "outputs": [
    {
     "data": {
      "image/png": "[encoded data removed]",
      "text/plain": [
       "<Figure size 1008x504 with 1 Axes>"
      ]
     },
     "metadata": {
      "needs_background": "light"
     },
     "output_type": "display_data"
    }
   ],
   "source": [
    "figure, ax = plt.subplots()\n",
    "ax.hist(data_groupedby_borough) #specify bins, color, and edge color\n",
    "plt.show()\n"
   ]
  },
  {
   "cell_type": "code",
   "execution_count": 144,
   "metadata": {},
   "outputs": [
    {
     "ename": "KeyError",
     "evalue": "'boroughs'",
     "output_type": "error",
     "traceback": [
      "\u001b[0;31m---------------------------------------------------------------------------\u001b[0m",
      "\u001b[0;31mKeyError\u001b[0m                                  Traceback (most recent call last)",
      "\u001b[0;32m/opt/anaconda3/lib/python3.8/site-packages/pandas/core/indexes/base.py\u001b[0m in \u001b[0;36mget_loc\u001b[0;34m(self, key, method, tolerance)\u001b[0m\n\u001b[1;32m   2894\u001b[0m             \u001b[0;32mtry\u001b[0m\u001b[0;34m:\u001b[0m\u001b[0;34m\u001b[0m\u001b[0;34m\u001b[0m\u001b[0m\n\u001b[0;32m-> 2895\u001b[0;31m                 \u001b[0;32mreturn\u001b[0m \u001b[0mself\u001b[0m\u001b[0;34m.\u001b[0m\u001b[0m_engine\u001b[0m\u001b[0;34m.\u001b[0m\u001b[0mget_loc\u001b[0m\u001b[0;34m(\u001b[0m\u001b[0mcasted_key\u001b[0m\u001b[0;34m)\u001b[0m\u001b[0;34m\u001b[0m\u001b[0;34m\u001b[0m\u001b[0m\n\u001b[0m\u001b[1;32m   2896\u001b[0m             \u001b[0;32mexcept\u001b[0m \u001b[0mKeyError\u001b[0m \u001b[0;32mas\u001b[0m \u001b[0merr\u001b[0m\u001b[0;34m:\u001b[0m\u001b[0;34m\u001b[0m\u001b[0;34m\u001b[0m\u001b[0m\n",
      "\u001b[0;32mpandas/_libs/index.pyx\u001b[0m in \u001b[0;36mpandas._libs.index.IndexEngine.get_loc\u001b[0;34m()\u001b[0m\n",
      "\u001b[0;32mpandas/_libs/index.pyx\u001b[0m in \u001b[0;36mpandas._libs.index.IndexEngine.get_loc\u001b[0;34m()\u001b[0m\n",
      "\u001b[0;32mpandas/_libs/hashtable_class_helper.pxi\u001b[0m in \u001b[0;36mpandas._libs.hashtable.PyObjectHashTable.get_item\u001b[0;34m()\u001b[0m\n",
      "\u001b[0;32mpandas/_libs/hashtable_class_helper.pxi\u001b[0m in \u001b[0;36mpandas._libs.hashtable.PyObjectHashTable.get_item\u001b[0;34m()\u001b[0m\n",
      "\u001b[0;31mKeyError\u001b[0m: 'boroughs'",
      "\nThe above exception was the direct cause of the following exception:\n",
      "\u001b[0;31mKeyError\u001b[0m                                  Traceback (most recent call last)",
      "\u001b[0;32m<ipython-input-144-261143e122b1>\u001b[0m in \u001b[0;36m<module>\u001b[0;34m\u001b[0m\n\u001b[1;32m      1\u001b[0m \u001b[0mfigure\u001b[0m\u001b[0;34m,\u001b[0m \u001b[0max\u001b[0m \u001b[0;34m=\u001b[0m \u001b[0mplt\u001b[0m\u001b[0;34m.\u001b[0m\u001b[0msubplots\u001b[0m\u001b[0;34m(\u001b[0m\u001b[0;34m)\u001b[0m\u001b[0;34m\u001b[0m\u001b[0;34m\u001b[0m\u001b[0m\n\u001b[0;32m----> 2\u001b[0;31m \u001b[0max\u001b[0m\u001b[0;34m.\u001b[0m\u001b[0mscatter\u001b[0m\u001b[0;34m(\u001b[0m\u001b[0mair_quality__df_updated\u001b[0m\u001b[0;34m[\u001b[0m\u001b[0;34m'year'\u001b[0m\u001b[0;34m]\u001b[0m\u001b[0;34m,\u001b[0m \u001b[0mair_quality__df_updated\u001b[0m\u001b[0;34m[\u001b[0m\u001b[0;34m'boroughs'\u001b[0m\u001b[0;34m]\u001b[0m\u001b[0;34m)\u001b[0m\u001b[0;34m\u001b[0m\u001b[0;34m\u001b[0m\u001b[0m\n\u001b[0m\u001b[1;32m      3\u001b[0m \u001b[0mset_xlabel\u001b[0m\u001b[0;34m(\u001b[0m\u001b[0;34m'Air Quality (Years)'\u001b[0m\u001b[0;34m)\u001b[0m\u001b[0;34m\u001b[0m\u001b[0;34m\u001b[0m\u001b[0m\n\u001b[1;32m      4\u001b[0m \u001b[0mset_ylabel\u001b[0m\u001b[0;34m(\u001b[0m\u001b[0;34m'Air Quality (Boroughs)'\u001b[0m\u001b[0;34m)\u001b[0m\u001b[0;34m\u001b[0m\u001b[0;34m\u001b[0m\u001b[0m\n\u001b[1;32m      5\u001b[0m \u001b[0;34m\u001b[0m\u001b[0m\n",
      "\u001b[0;32m/opt/anaconda3/lib/python3.8/site-packages/pandas/core/frame.py\u001b[0m in \u001b[0;36m__getitem__\u001b[0;34m(self, key)\u001b[0m\n\u001b[1;32m   2900\u001b[0m             \u001b[0;32mif\u001b[0m \u001b[0mself\u001b[0m\u001b[0;34m.\u001b[0m\u001b[0mcolumns\u001b[0m\u001b[0;34m.\u001b[0m\u001b[0mnlevels\u001b[0m \u001b[0;34m>\u001b[0m \u001b[0;36m1\u001b[0m\u001b[0;34m:\u001b[0m\u001b[0;34m\u001b[0m\u001b[0;34m\u001b[0m\u001b[0m\n\u001b[1;32m   2901\u001b[0m                 \u001b[0;32mreturn\u001b[0m \u001b[0mself\u001b[0m\u001b[0;34m.\u001b[0m\u001b[0m_getitem_multilevel\u001b[0m\u001b[0;34m(\u001b[0m\u001b[0mkey\u001b[0m\u001b[0;34m)\u001b[0m\u001b[0;34m\u001b[0m\u001b[0;34m\u001b[0m\u001b[0m\n\u001b[0;32m-> 2902\u001b[0;31m             \u001b[0mindexer\u001b[0m \u001b[0;34m=\u001b[0m \u001b[0mself\u001b[0m\u001b[0;34m.\u001b[0m\u001b[0mcolumns\u001b[0m\u001b[0;34m.\u001b[0m\u001b[0mget_loc\u001b[0m\u001b[0;34m(\u001b[0m\u001b[0mkey\u001b[0m\u001b[0;34m)\u001b[0m\u001b[0;34m\u001b[0m\u001b[0;34m\u001b[0m\u001b[0m\n\u001b[0m\u001b[1;32m   2903\u001b[0m             \u001b[0;32mif\u001b[0m \u001b[0mis_integer\u001b[0m\u001b[0;34m(\u001b[0m\u001b[0mindexer\u001b[0m\u001b[0;34m)\u001b[0m\u001b[0;34m:\u001b[0m\u001b[0;34m\u001b[0m\u001b[0;34m\u001b[0m\u001b[0m\n\u001b[1;32m   2904\u001b[0m                 \u001b[0mindexer\u001b[0m \u001b[0;34m=\u001b[0m \u001b[0;34m[\u001b[0m\u001b[0mindexer\u001b[0m\u001b[0;34m]\u001b[0m\u001b[0;34m\u001b[0m\u001b[0;34m\u001b[0m\u001b[0m\n",
      "\u001b[0;32m/opt/anaconda3/lib/python3.8/site-packages/pandas/core/indexes/base.py\u001b[0m in \u001b[0;36mget_loc\u001b[0;34m(self, key, method, tolerance)\u001b[0m\n\u001b[1;32m   2895\u001b[0m                 \u001b[0;32mreturn\u001b[0m \u001b[0mself\u001b[0m\u001b[0;34m.\u001b[0m\u001b[0m_engine\u001b[0m\u001b[0;34m.\u001b[0m\u001b[0mget_loc\u001b[0m\u001b[0;34m(\u001b[0m\u001b[0mcasted_key\u001b[0m\u001b[0;34m)\u001b[0m\u001b[0;34m\u001b[0m\u001b[0;34m\u001b[0m\u001b[0m\n\u001b[1;32m   2896\u001b[0m             \u001b[0;32mexcept\u001b[0m \u001b[0mKeyError\u001b[0m \u001b[0;32mas\u001b[0m \u001b[0merr\u001b[0m\u001b[0;34m:\u001b[0m\u001b[0;34m\u001b[0m\u001b[0;34m\u001b[0m\u001b[0m\n\u001b[0;32m-> 2897\u001b[0;31m                 \u001b[0;32mraise\u001b[0m \u001b[0mKeyError\u001b[0m\u001b[0;34m(\u001b[0m\u001b[0mkey\u001b[0m\u001b[0;34m)\u001b[0m \u001b[0;32mfrom\u001b[0m \u001b[0merr\u001b[0m\u001b[0;34m\u001b[0m\u001b[0;34m\u001b[0m\u001b[0m\n\u001b[0m\u001b[1;32m   2898\u001b[0m \u001b[0;34m\u001b[0m\u001b[0m\n\u001b[1;32m   2899\u001b[0m         \u001b[0;32mif\u001b[0m \u001b[0mtolerance\u001b[0m \u001b[0;32mis\u001b[0m \u001b[0;32mnot\u001b[0m \u001b[0;32mNone\u001b[0m\u001b[0;34m:\u001b[0m\u001b[0;34m\u001b[0m\u001b[0;34m\u001b[0m\u001b[0m\n",
      "\u001b[0;31mKeyError\u001b[0m: 'boroughs'"
     ]
    },
    {
     "data": {
      "image/png": "[encoded data removed]",
      "text/plain": [
       "<Figure size 1008x504 with 1 Axes>"
      ]
     },
     "metadata": {
      "needs_background": "light"
     },
     "output_type": "display_data"
    }
   ],
   "source": [
    "figure, ax = plt.subplots()\n",
    "ax.scatter(air_quality__df_updated['year'], air_quality__df_updated['boroughs'])\n",
    "set_xlabel('Air Quality (Years)')\n",
    "set_ylabel('Air Quality (Boroughs)')\n",
    "\n",
    "plt.show()"
   ]
  },
  {
   "cell_type": "code",
   "execution_count": 145,
   "metadata": {},
   "outputs": [
    {
     "name": "stderr",
     "output_type": "stream",
     "text": [
      "/opt/anaconda3/lib/python3.8/site-packages/seaborn/_decorators.py:36: FutureWarning: Pass the following variable as a keyword arg: x. From version 0.12, the only valid positional argument will be `data`, and passing other arguments without an explicit keyword will result in an error or misinterpretation.\n",
      "  warnings.warn(\n"
     ]
    },
    {
     "data": {
      "text/plain": [
       "<AxesSubplot:>"
      ]
     },
     "execution_count": 145,
     "metadata": {},
     "output_type": "execute_result"
    },
    {
     "data": {
      "image/png": "[encoded data removed]",
      "text/plain": [
       "<Figure size 1008x504 with 1 Axes>"
      ]
     },
     "metadata": {
      "needs_background": "light"
     },
     "output_type": "display_data"
    }
   ],
   "source": [
    "sns.boxplot(data_groupedby_borough, x ='bo')"
   ]
  },
  {
   "cell_type": "markdown",
   "metadata": {},
   "source": [
    "### Greenroof Data plotting\n",
    "We plotted the cumulative number of buildings built every year in the data set"
   ]
  },
  {
   "cell_type": "code",
   "execution_count": 146,
   "metadata": {},
   "outputs": [],
   "source": [
    "cnstrct_yr = greenroof_df['cnstrct_yr']\n",
    "\n",
    "d = cnstrct_yr.value_counts().to_dict()\n",
    "yrs = np.sort(cnstrct_yr.unique())\n",
    "cummulative_buildings = {int(yrs[1]):d[yrs[1]]}\n",
    "\n",
    "\n",
    "for i in range(2, len(yrs)):\n",
    "    if not math.isnan(yrs[i]):\n",
    "        cummulative_buildings[int(yrs[i])] = cummulative_buildings[yrs[i-1]] + d[yrs[i]]"
   ]
  },
  {
   "cell_type": "code",
   "execution_count": 147,
   "metadata": {},
   "outputs": [
    {
     "data": {
      "image/png": "[encoded data removed]",
      "text/plain": [
       "<Figure size 1008x504 with 1 Axes>"
      ]
     },
     "metadata": {
      "needs_background": "light"
     },
     "output_type": "display_data"
    }
   ],
   "source": [
    "num_buildings =  list(cummulative_buildings.values()) \n",
    "\n",
    "plt.rcParams[\"figure.figsize\"] = [14, 7]\n",
    "figure, ax = plt.subplots()\n",
    "ax.plot(yrs[1:len(yrs) -1], num_buildings, 'r-o')\n",
    "ax.set_xlabel('Year') # x axis label\n",
    "ax.set_ylabel('Number of Green Roofs') # y axis label\n",
    "plt.show()"
   ]
  },
  {
   "cell_type": "markdown",
   "metadata": {},
   "source": [
    ", "
   ]
  },
  {
   "cell_type": "markdown",
   "metadata": {},
   "source": [
    "### Air Quality Data plotting\n",
    "We also plotted an example indicator, NO2, to see how the "
   ]
  },
  {
   "cell_type": "code",
   "execution_count": 148,
   "metadata": {},
   "outputs": [
    {
     "data": {
      "image/png": "[encoded data removed]",
      "text/plain": [
       "<Figure size 720x504 with 1 Axes>"
      ]
     },
     "metadata": {
      "needs_background": "light"
     },
     "output_type": "display_data"
    }
   ],
   "source": [
    "df_sub = air_quality__df_updated.loc[air_quality__df_updated['Name']==\"Nitrogen Dioxide (NO2)\"].groupby('year').mean()\n",
    "\n",
    "indicator_values = df_sub['Data Value'].values\n",
    "years = list(df_sub['Data Value'].index)\n",
    "\n",
    "plt.rcParams[\"figure.figsize\"] = [10, 7]\n",
    "figure, ax = plt.subplots()\n",
    "ax.plot(years, indicator_values, 'r-o')\n",
    "ax.set_xlabel('Year') # x axis label\n",
    "ax.set_ylabel('SO2 (ppb)') # y axis label\n",
    "\n",
    "for i, txt in enumerate(indicator_values):\n",
    "    ax.annotate(str(round(txt, 3)), (years[i], indicator_values[i]+0.05))\n",
    "\n",
    "plt.show()"
   ]
  },
  {
   "cell_type": "code",
   "execution_count": null,
   "metadata": {},
   "outputs": [],
   "source": []
  },
  {
   "cell_type": "code",
   "execution_count": null,
   "metadata": {},
   "outputs": [],
   "source": []
  },
  {
   "cell_type": "markdown",
   "metadata": {},
   "source": []
  }
 ],
 "metadata": {
  "kernelspec": {
   "display_name": "Python 3",
   "language": "python",
   "name": "python3"
  },
  "language_info": {
   "codemirror_mode": {
    "name": "ipython",
    "version": 3
   },
   "file_extension": ".py",
   "mimetype": "text/x-python",
   "name": "python",
   "nbconvert_exporter": "python",
   "pygments_lexer": "ipython3",
   "version": "3.8.5"
  }
 },
 "nbformat": 4,
 "nbformat_minor": 4
}
